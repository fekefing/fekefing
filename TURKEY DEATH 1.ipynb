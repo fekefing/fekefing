{
 "cells": [
  {
   "cell_type": "code",
   "execution_count": 44,
   "metadata": {},
   "outputs": [],
   "source": [
    "import pandas as pd \n",
    "import matplotlib.pyplot as plt \n",
    "import numpy as np\n",
    "from numpy import array\n",
    "%matplotlib inline"
   ]
  },
  {
   "cell_type": "code",
   "execution_count": 45,
   "metadata": {},
   "outputs": [],
   "source": [
    "world_death =pd.read_csv(\"death.csv\")\n"
   ]
  },
  {
   "cell_type": "code",
   "execution_count": 46,
   "metadata": {},
   "outputs": [],
   "source": [
    "tr_death = world_death.loc[5910:5935]\n",
    "tr_death =tr_death[[\"Entity\",\n",
    "    \"Year\",\n",
    "    \"Air pollution (outdoor & indoor) (deaths)\",\n",
    "    \"Unsafe water source (deaths)\",\n",
    "    \"Alcohol use (deaths)\",\n",
    "    \"Drug use (deaths)\",\n",
    "    \"High blood sugar (deaths)\",\n",
    "    \"Obesity (deaths)\",\n",
    "    \"Smoking (deaths)\",\n",
    "    ]].loc[5910:5935]\n"
   ]
  },
  {
   "cell_type": "code",
   "execution_count": 47,
   "metadata": {},
   "outputs": [],
   "source": [
    "tr_death = tr_death.drop(\"Entity\" , axis= 1 )\n"
   ]
  },
  {
   "cell_type": "code",
   "execution_count": 48,
   "metadata": {},
   "outputs": [],
   "source": [
    "tr_death.reset_index(inplace=True)\n"
   ]
  },
  {
   "cell_type": "code",
   "execution_count": 49,
   "metadata": {},
   "outputs": [],
   "source": [
    "tr_death = tr_death.drop(\"index\" , axis= 1 )\n"
   ]
  },
  {
   "cell_type": "code",
   "execution_count": 50,
   "metadata": {},
   "outputs": [],
   "source": [
    "tr_death = tr_death.round(0)\n"
   ]
  },
  {
   "cell_type": "code",
   "execution_count": 51,
   "metadata": {},
   "outputs": [],
   "source": [
    "world_deathmean = world_death[[\"Entity\",\n",
    "    \"Year\",\n",
    "    \"Air pollution (outdoor & indoor) (deaths)\",\n",
    "    \"Unsafe water source (deaths)\",\n",
    "    \"Alcohol use (deaths)\",\n",
    "    \"Drug use (deaths)\",\n",
    "    \"High blood sugar (deaths)\",\n",
    "    \"Obesity (deaths)\",\n",
    "    \"Smoking (deaths)\",\n",
    "    ]]\n",
    "world_deathmean = world_deathmean.groupby(\"Year\").mean().round(0)\n"
   ]
  },
  {
   "cell_type": "code",
   "execution_count": 55,
   "metadata": {},
   "outputs": [
    {
     "data": {
      "image/png": "[encoded data removed]",
      "text/plain": [
       "<Figure size 432x288 with 1 Axes>"
      ]
     },
     "metadata": {
      "needs_background": "light"
     },
     "output_type": "display_data"
    }
   ],
   "source": [
    "\n",
    "#BAR CHART\n",
    "years = tr_death[\"Year\"]\n",
    "deaths = tr_death[\"Air pollution (outdoor & indoor) (deaths)\"]\n",
    "\n",
    "plt.bar(years , deaths , color = \"maroon\" ,\n",
    "        width=0.6)\n",
    "\n",
    "plt.xticks(years, rotation =\"vertical\" , size =11)\n",
    "plt.ylabel(\"Olumler(Deaths)\")\n",
    "plt.xlabel(\"Yillar(Years)\")\n",
    "title1 = plt.title(\"Hava Kirliligi Sebebiyle Olumler(Air pollution deaths)\")\n",
    "\n",
    "\n",
    "\n",
    "\n",
    "\n",
    "plt.savefig('foo.png',dpi=100)\n",
    "plt.show()\n"
   ]
  },
  {
   "cell_type": "code",
   "execution_count": null,
   "metadata": {},
   "outputs": [],
   "source": []
  },
  {
   "cell_type": "code",
   "execution_count": null,
   "metadata": {},
   "outputs": [],
   "source": []
  },
  {
   "cell_type": "code",
   "execution_count": null,
   "metadata": {},
   "outputs": [],
   "source": []
  },
  {
   "cell_type": "code",
   "execution_count": null,
   "metadata": {},
   "outputs": [],
   "source": []
  },
  {
   "cell_type": "code",
   "execution_count": null,
   "metadata": {},
   "outputs": [],
   "source": []
  },
  {
   "cell_type": "code",
   "execution_count": null,
   "metadata": {},
   "outputs": [],
   "source": []
  },
  {
   "cell_type": "code",
   "execution_count": null,
   "metadata": {},
   "outputs": [],
   "source": []
  },
  {
   "cell_type": "code",
   "execution_count": null,
   "metadata": {},
   "outputs": [],
   "source": []
  }
 ],
 "metadata": {
  "kernelspec": {
   "display_name": "Python 3",
   "language": "python",
   "name": "python3"
  },
  "language_info": {
   "codemirror_mode": {
    "name": "ipython",
    "version": 3
   },
   "file_extension": ".py",
   "mimetype": "text/x-python",
   "name": "python",
   "nbconvert_exporter": "python",
   "pygments_lexer": "ipython3",
   "version": "3.7.6"
  }
 },
 "nbformat": 4,
 "nbformat_minor": 4
}
