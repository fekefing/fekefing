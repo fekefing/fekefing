{
 "cells": [
  {
   "cell_type": "code",
   "execution_count": 26,
   "metadata": {},
   "outputs": [],
   "source": [
    "class Calisan():\n",
    "    def __init__(self , isim , maas , departman):\n",
    "        print(\"calisan Init fonksiyonu tanimlaniyor...\")\n",
    "    \n",
    "        self.isim = isim \n",
    "        self.maas = maas\n",
    "        self.departman = departman\n",
    "    \n",
    "    \n",
    "    def bilgilerigoster(self):\n",
    "        print(\"Calisan Sinifin Bilgileri ...\")\n",
    "        print(\"Isim :{}\\nDepartman :{}\\nMaas:{}\".format(self.isim , self.departman , self.maas))\n",
    "        \n",
    "    def departman_degistir(self,yeni_departman):\n",
    "        self.departman = yeni_departman\n"
   ]
  },
  {
   "cell_type": "code",
   "execution_count": 27,
   "metadata": {},
   "outputs": [],
   "source": [
    "class Yonetici(Calisan):\n",
    "    def zam_yap(self,zam_miktari):\n",
    "        self.maas += zam_miktari"
   ]
  },
  {
   "cell_type": "code",
   "execution_count": 28,
   "metadata": {},
   "outputs": [
    {
     "name": "stdout",
     "output_type": "stream",
     "text": [
      "calisan Init fonksiyonu tanimlaniyor...\n",
      "Calisan Sinifin Bilgileri ...\n",
      "Isim :Furkan \n",
      "Departman :Bilisim\n",
      "Maas:3000\n"
     ]
    }
   ],
   "source": [
    "yonetici = Yonetici(\"Furkan \" , 3000,\"Bilisim\")\n",
    "yonetici.bilgilerigoster()"
   ]
  },
  {
   "cell_type": "code",
   "execution_count": 29,
   "metadata": {},
   "outputs": [],
   "source": [
    "yonetici.departman_degistir(\"Insan Kaynaklari\")"
   ]
  },
  {
   "cell_type": "code",
   "execution_count": 30,
   "metadata": {},
   "outputs": [
    {
     "name": "stdout",
     "output_type": "stream",
     "text": [
      "Calisan Sinifin Bilgileri ...\n",
      "Isim :Furkan \n",
      "Departman :Insan Kaynaklari\n",
      "Maas:3000\n"
     ]
    }
   ],
   "source": [
    "yonetici.bilgilerigoster()"
   ]
  },
  {
   "cell_type": "code",
   "execution_count": 31,
   "metadata": {},
   "outputs": [],
   "source": [
    "yonetici.zam_yap(6000)"
   ]
  },
  {
   "cell_type": "code",
   "execution_count": 32,
   "metadata": {},
   "outputs": [
    {
     "name": "stdout",
     "output_type": "stream",
     "text": [
      "Calisan Sinifin Bilgileri ...\n",
      "Isim :Furkan \n",
      "Departman :Insan Kaynaklari\n",
      "Maas:9000\n"
     ]
    }
   ],
   "source": [
    "yonetici.bilgilerigoster()"
   ]
  },
  {
   "cell_type": "code",
   "execution_count": 33,
   "metadata": {},
   "outputs": [],
   "source": [
    "class Calisan():\n",
    "    def __init__(self , isim , maas , departman):\n",
    "        print(\"calisan Init fonksiyonu tanimlaniyor...\")\n",
    "    \n",
    "        self.isim = isim \n",
    "        self.maas = maas\n",
    "        self.departman = departman\n",
    "    \n",
    "    \n",
    "    def bilgilerigoster(self):\n",
    "        print(\"Calisan Sinifin Bilgileri ...\")\n",
    "        print(\"Isim :{}\\nDepartman :{}\\nMaas:{}\".format(self.isim , self.departman , self.maas))\n",
    "        \n",
    "    def departman_degistir(self,yeni_departman):\n",
    "        self.departman = yeni_departman\n",
    "\n"
   ]
  },
  {
   "cell_type": "code",
   "execution_count": 41,
   "metadata": {},
   "outputs": [],
   "source": [
    "class Yonetici(Calisan):\n",
    "    def __init__(self , isim , maas , departman , kisi_sayisi):\n",
    "        print(\"Yonetici sinifinin init fonksiyonu \")\n",
    "        \n",
    "        self.isim = isim \n",
    "        self.maas = maas\n",
    "        self.departman = departman\n",
    "        self.kisi_sayisi = kisi_sayisi\n",
    "    def bilgilerigoster(self):\n",
    "        print(\"Calisan Sinifin Bilgileri ...\")\n",
    "        print(\"Isim :{}\\nDepartman :{}\\nMaas:{}\\nKisi Sayisi:{}\".format(self.isim , self.departman , self.maas , self.kisi_sayisi))\n",
    "        \n",
    "    def zam_yap(self,zam_miktari):\n",
    "        self.maas += zam_miktari"
   ]
  },
  {
   "cell_type": "code",
   "execution_count": 42,
   "metadata": {},
   "outputs": [
    {
     "name": "stdout",
     "output_type": "stream",
     "text": [
      "Yonetici sinifinin init fonksiyonu \n"
     ]
    }
   ],
   "source": [
    "yonetici = Yonetici(\"Oguz\", 3500 , \" bilisim \" , 10)"
   ]
  },
  {
   "cell_type": "code",
   "execution_count": 43,
   "metadata": {},
   "outputs": [
    {
     "name": "stdout",
     "output_type": "stream",
     "text": [
      "Calisan Sinifin Bilgileri ...\n",
      "Isim :Oguz\n",
      "Departman : bilisim \n",
      "Maas:3500\n",
      "Kisi Sayisi:10\n"
     ]
    }
   ],
   "source": [
    "yonetici.bilgilerigoster()"
   ]
  },
  {
   "cell_type": "code",
   "execution_count": 44,
   "metadata": {},
   "outputs": [],
   "source": [
    "class Calisan():\n",
    "    def __init__(self , isim , maas , departman):\n",
    "        print(\"calisan Init fonksiyonu tanimlaniyor...\")\n",
    "    \n",
    "        self.isim = isim \n",
    "        self.maas = maas\n",
    "        self.departman = departman\n",
    "    \n",
    "    \n",
    "    def bilgilerigoster(self):\n",
    "        print(\"Calisan Sinifin Bilgileri ...\")\n",
    "        print(\"Isim :{}\\nDepartman :{}\\nMaas:{}\".format(self.isim , self.departman , self.maas))\n",
    "        \n",
    "    def departman_degistir(self,yeni_departman):\n",
    "        self.departman = yeni_departman\n"
   ]
  },
  {
   "cell_type": "code",
   "execution_count": 45,
   "metadata": {},
   "outputs": [],
   "source": [
    "class Yonetici(Calisan):\n",
    "    def __init__(self , isim , maas , departman , kisi_sayisi):\n",
    "        print(\"Yonetici sinifinin init fonksiyonu \")\n",
    "        \n",
    "        self.isim = isim \n",
    "        self.maas = maas\n",
    "        self.departman = departman\n",
    "        self.kisi_sayisi = kisi_sayisi\n",
    "    def bilgilerigoster(self):\n",
    "        print(\"Calisan Sinifin Bilgileri ...\")\n",
    "        print(\"Isim :{}\\nDepartman :{}\\nMaas:{}\\nKisi Sayisi:{}\".format(self.isim , self.departman , self.maas , self.kisi_sayisi))\n",
    "        \n",
    "    def zam_yap(self,zam_miktari):\n",
    "        self.maas += zam_miktari"
   ]
  },
  {
   "cell_type": "markdown",
   "metadata": {},
   "source": [
    "### super\n"
   ]
  },
  {
   "cell_type": "code",
   "execution_count": 46,
   "metadata": {},
   "outputs": [],
   "source": [
    "class Calisan():\n",
    "    def __init__(self , isim , maas , departman):\n",
    "        print(\"calisan Init fonksiyonu tanimlaniyor...\")\n",
    "    \n",
    "        self.isim = isim \n",
    "        self.maas = maas\n",
    "        self.departman = departman\n",
    "    \n",
    "    \n",
    "    def bilgilerigoster(self):\n",
    "        print(\"Calisan Sinifin Bilgileri ...\")\n",
    "        print(\"Isim :{}\\nDepartman :{}\\nMaas:{}\".format(self.isim , self.departman , self.maas))\n",
    "        \n",
    "    def departman_degistir(self,yeni_departman):\n",
    "        self.departman = yeni_departman\n"
   ]
  },
  {
   "cell_type": "code",
   "execution_count": 48,
   "metadata": {},
   "outputs": [],
   "source": [
    "class Yonetici(Calisan):\n",
    "    def __init__(self , isim , maas , departman , kisi_sayisi):\n",
    "        print(\"Yonetici sinifinin init fonksiyonu \")\n",
    "        \n",
    "        super().__init__(isim , maas , departman)\n",
    "        self.kisi_sayisi = kisi_sayisi\n",
    "    def bilgilerigoster(self):\n",
    "        print(\"Calisan Sinifin Bilgileri ...\")\n",
    "        print(\"Isim :{}\\nDepartman :{}\\nMaas:{}\\nKisi Sayisi:{}\".format(self.isim , self.departman , self.maas , self.kisi_sayisi))\n",
    "        \n",
    "    def zam_yap(self,zam_miktari):\n",
    "        self.maas += zam_miktari"
   ]
  },
  {
   "cell_type": "code",
   "execution_count": 49,
   "metadata": {},
   "outputs": [
    {
     "name": "stdout",
     "output_type": "stream",
     "text": [
      "Yonetici sinifinin init fonksiyonu \n",
      "calisan Init fonksiyonu tanimlaniyor...\n"
     ]
    }
   ],
   "source": [
    "yonetici = Yonetici(\"Furkan \", 3000 , \"bilisim \", 25)"
   ]
  },
  {
   "cell_type": "code",
   "execution_count": 50,
   "metadata": {},
   "outputs": [
    {
     "name": "stdout",
     "output_type": "stream",
     "text": [
      "Calisan Sinifin Bilgileri ...\n",
      "Isim :Furkan \n",
      "Departman :bilisim \n",
      "Maas:3000\n",
      "Kisi Sayisi:25\n"
     ]
    }
   ],
   "source": [
    "yonetici.bilgilerigoster()"
   ]
  },
  {
   "cell_type": "code",
   "execution_count": null,
   "metadata": {},
   "outputs": [],
   "source": []
  }
 ],
 "metadata": {
  "kernelspec": {
   "display_name": "Python 3",
   "language": "python",
   "name": "python3"
  },
  "language_info": {
   "codemirror_mode": {
    "name": "ipython",
    "version": 3
   },
   "file_extension": ".py",
   "mimetype": "text/x-python",
   "name": "python",
   "nbconvert_exporter": "python",
   "pygments_lexer": "ipython3",
   "version": "3.8.3"
  }
 },
 "nbformat": 4,
 "nbformat_minor": 4
}
